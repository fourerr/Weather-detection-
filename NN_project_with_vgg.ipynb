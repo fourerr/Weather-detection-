{
  "nbformat": 4,
  "nbformat_minor": 0,
  "metadata": {
    "colab": {
      "name": "NN_project_with_vgg.ipynb",
      "provenance": [],
      "collapsed_sections": [],
      "include_colab_link": true
    },
    "kernelspec": {
      "name": "python3",
      "display_name": "Python 3"
    },
    "language_info": {
      "name": "python"
    },
    "accelerator": "GPU"
  },
  "cells": [
    {
      "cell_type": "markdown",
      "metadata": {
        "id": "view-in-github",
        "colab_type": "text"
      },
      "source": [
        "<a href=\"https://colab.research.google.com/github/fourerr/neural_network/blob/main/NN_project_with_vgg.ipynb\" target=\"_parent\"><img src=\"https://colab.research.google.com/assets/colab-badge.svg\" alt=\"Open In Colab\"/></a>"
      ]
    },
    {
      "cell_type": "markdown",
      "metadata": {
        "id": "vBzvUex5mqA7"
      },
      "source": [
        "### written by Zafrir Fourrer & Amihay Hassan\n",
        "general guidlines by Osher Zakin"
      ]
    },
    {
      "cell_type": "code",
      "metadata": {
        "id": "dATIVp6RZBb3"
      },
      "source": [
        "from sklearn.model_selection import train_test_split\n",
        "from __future__ import print_function\n",
        "import keras\n",
        "from keras.preprocessing.image import ImageDataGenerator\n",
        "from keras.models import Sequential\n",
        "from keras.layers import Dense, Dropout, Activation, Flatten, BatchNormalization, Conv2D, MaxPooling2D\n",
        "from keras.optimizers import Adam, SGD, RMSprop\n",
        "from tensorflow.keras import layers\n",
        "from keras.preprocessing.image import load_img, img_to_array\n",
        "import random\n",
        "import shutil\n",
        "import os.path\n",
        "from os import path\n",
        "from tensorflow.keras import layers\n",
        "from tensorflow.keras import Model\n",
        "from tensorflow import keras\n",
        "from tensorflow.keras.optimizers import RMSprop\n",
        "\n",
        "import numpy as np\n",
        "import pandas as pd\n",
        "import matplotlib.pyplot as plt\n",
        "%matplotlib inline"
      ],
      "execution_count": null,
      "outputs": []
    },
    {
      "cell_type": "code",
      "metadata": {
        "id": "XTX-sQf5ZDQ7",
        "colab": {
          "base_uri": "https://localhost:8080/"
        },
        "outputId": "07276417-e105-4648-c521-95357c255e01"
      },
      "source": [
        "# make directory and download the file to this directory\n",
        "\n",
        "!mkdir '/tmp/weather'\n",
        "\n",
        "!wget --no-check-certificate \\\n",
        "  https://md-datasets-cache-zipfiles-prod.s3.eu-west-1.amazonaws.com/4drtyfjtfy-1.zip -O \\\n",
        "  /tmp/weather/weather.zip"
      ],
      "execution_count": null,
      "outputs": [
        {
          "output_type": "stream",
          "text": [
            "--2021-06-07 19:08:20--  https://md-datasets-cache-zipfiles-prod.s3.eu-west-1.amazonaws.com/4drtyfjtfy-1.zip\n",
            "Resolving md-datasets-cache-zipfiles-prod.s3.eu-west-1.amazonaws.com (md-datasets-cache-zipfiles-prod.s3.eu-west-1.amazonaws.com)... 52.218.96.11\n",
            "Connecting to md-datasets-cache-zipfiles-prod.s3.eu-west-1.amazonaws.com (md-datasets-cache-zipfiles-prod.s3.eu-west-1.amazonaws.com)|52.218.96.11|:443... connected.\n",
            "HTTP request sent, awaiting response... 200 OK\n",
            "Length: 95592747 (91M) [application/octet-stream]\n",
            "Saving to: ‘/tmp/weather/weather.zip’\n",
            "\n",
            "/tmp/weather/weathe 100%[===================>]  91.16M  18.0MB/s    in 6.0s    \n",
            "\n",
            "2021-06-07 19:08:27 (15.3 MB/s) - ‘/tmp/weather/weather.zip’ saved [95592747/95592747]\n",
            "\n"
          ],
          "name": "stdout"
        }
      ]
    },
    {
      "cell_type": "code",
      "metadata": {
        "id": "WvI9PJaRZG-t"
      },
      "source": [
        "# extract the files from the downloaded zip\n",
        "\n",
        "import os\n",
        "import zipfile\n",
        "\n",
        "local_zip = '/tmp/weather/weather.zip'\n",
        "zip_ref = zipfile.ZipFile(local_zip, 'r')\n",
        "zip_ref.extractall('/tmp/weather')\n",
        "zip_ref.close()\n",
        "\n",
        "local_zip = '/tmp/weather/dataset2.zip'\n",
        "zip_ref = zipfile.ZipFile(local_zip, 'r')\n",
        "zip_ref.extractall('/tmp/weather')\n",
        "zip_ref.close()"
      ],
      "execution_count": null,
      "outputs": []
    },
    {
      "cell_type": "code",
      "metadata": {
        "id": "behFR08-ZTqF"
      },
      "source": [
        "# get the list of files from the new folder\n",
        "list_for_df = os.listdir('/tmp/weather/dataset2')"
      ],
      "execution_count": null,
      "outputs": []
    },
    {
      "cell_type": "code",
      "metadata": {
        "id": "znPYOv0QZkIV"
      },
      "source": [
        "# create new dataframe contains the pictures\n",
        "df = pd.DataFrame(list_for_df,columns =['filename'])"
      ],
      "execution_count": null,
      "outputs": []
    },
    {
      "cell_type": "code",
      "metadata": {
        "id": "tVLym3Jba4XW"
      },
      "source": [
        "# function to extract tag name from full file name\n",
        "def tag_name(file_name):\n",
        "  name = ''\n",
        "  for char in file_name.split(\".\")[0]:\n",
        "    if char.isalpha():\n",
        "      name += char\n",
        "  return(name)"
      ],
      "execution_count": null,
      "outputs": []
    },
    {
      "cell_type": "code",
      "metadata": {
        "id": "EZmUs5oKa9Wn"
      },
      "source": [
        "# get list of all tags of the pictures\n",
        "tag = []\n",
        "\n",
        "for file in list_for_df:\n",
        "  tag.append(tag_name(file))"
      ],
      "execution_count": null,
      "outputs": []
    },
    {
      "cell_type": "code",
      "metadata": {
        "id": "dsU9z6oxcQXX"
      },
      "source": [
        "# add the tags list as a column to the dataframe\n",
        "df['class'] = tag"
      ],
      "execution_count": null,
      "outputs": []
    },
    {
      "cell_type": "code",
      "metadata": {
        "id": "PmsV9twdcXnt",
        "colab": {
          "base_uri": "https://localhost:8080/",
          "height": 415
        },
        "outputId": "36ace9f5-7388-4e65-bdb4-c33148b4694d"
      },
      "source": [
        "# show the dataframe\n",
        "df"
      ],
      "execution_count": null,
      "outputs": [
        {
          "output_type": "execute_result",
          "data": {
            "text/html": [
              "<div>\n",
              "<style scoped>\n",
              "    .dataframe tbody tr th:only-of-type {\n",
              "        vertical-align: middle;\n",
              "    }\n",
              "\n",
              "    .dataframe tbody tr th {\n",
              "        vertical-align: top;\n",
              "    }\n",
              "\n",
              "    .dataframe thead th {\n",
              "        text-align: right;\n",
              "    }\n",
              "</style>\n",
              "<table border=\"1\" class=\"dataframe\">\n",
              "  <thead>\n",
              "    <tr style=\"text-align: right;\">\n",
              "      <th></th>\n",
              "      <th>filename</th>\n",
              "      <th>class</th>\n",
              "    </tr>\n",
              "  </thead>\n",
              "  <tbody>\n",
              "    <tr>\n",
              "      <th>0</th>\n",
              "      <td>shine165.jpg</td>\n",
              "      <td>shine</td>\n",
              "    </tr>\n",
              "    <tr>\n",
              "      <th>1</th>\n",
              "      <td>sunrise115.jpg</td>\n",
              "      <td>sunrise</td>\n",
              "    </tr>\n",
              "    <tr>\n",
              "      <th>2</th>\n",
              "      <td>rain34.jpg</td>\n",
              "      <td>rain</td>\n",
              "    </tr>\n",
              "    <tr>\n",
              "      <th>3</th>\n",
              "      <td>shine159.jpg</td>\n",
              "      <td>shine</td>\n",
              "    </tr>\n",
              "    <tr>\n",
              "      <th>4</th>\n",
              "      <td>rain153.jpg</td>\n",
              "      <td>rain</td>\n",
              "    </tr>\n",
              "    <tr>\n",
              "      <th>...</th>\n",
              "      <td>...</td>\n",
              "      <td>...</td>\n",
              "    </tr>\n",
              "    <tr>\n",
              "      <th>1120</th>\n",
              "      <td>shine204.jpg</td>\n",
              "      <td>shine</td>\n",
              "    </tr>\n",
              "    <tr>\n",
              "      <th>1121</th>\n",
              "      <td>sunrise288.jpg</td>\n",
              "      <td>sunrise</td>\n",
              "    </tr>\n",
              "    <tr>\n",
              "      <th>1122</th>\n",
              "      <td>sunrise353.jpg</td>\n",
              "      <td>sunrise</td>\n",
              "    </tr>\n",
              "    <tr>\n",
              "      <th>1123</th>\n",
              "      <td>shine94.jpg</td>\n",
              "      <td>shine</td>\n",
              "    </tr>\n",
              "    <tr>\n",
              "      <th>1124</th>\n",
              "      <td>sunrise92.jpg</td>\n",
              "      <td>sunrise</td>\n",
              "    </tr>\n",
              "  </tbody>\n",
              "</table>\n",
              "<p>1125 rows × 2 columns</p>\n",
              "</div>"
            ],
            "text/plain": [
              "            filename    class\n",
              "0       shine165.jpg    shine\n",
              "1     sunrise115.jpg  sunrise\n",
              "2         rain34.jpg     rain\n",
              "3       shine159.jpg    shine\n",
              "4        rain153.jpg     rain\n",
              "...              ...      ...\n",
              "1120    shine204.jpg    shine\n",
              "1121  sunrise288.jpg  sunrise\n",
              "1122  sunrise353.jpg  sunrise\n",
              "1123     shine94.jpg    shine\n",
              "1124   sunrise92.jpg  sunrise\n",
              "\n",
              "[1125 rows x 2 columns]"
            ]
          },
          "metadata": {
            "tags": []
          },
          "execution_count": 10
        }
      ]
    },
    {
      "cell_type": "code",
      "metadata": {
        "id": "5zk4WvB4crXO"
      },
      "source": [
        "# split the data from the dataframe to train and test.\n",
        "# 80/20 because this is very common split as we have seen in other models built by professionals\n",
        "from sklearn.model_selection import train_test_split\n",
        "\n",
        "train, test = train_test_split(df, test_size=0.2)"
      ],
      "execution_count": null,
      "outputs": []
    },
    {
      "cell_type": "code",
      "metadata": {
        "id": "-ZcclbVOe5ec",
        "colab": {
          "base_uri": "https://localhost:8080/",
          "height": 415
        },
        "outputId": "6cde427a-4bce-4216-88db-33380b5ec9a1"
      },
      "source": [
        "# show the trian dataframe\n",
        "train"
      ],
      "execution_count": null,
      "outputs": [
        {
          "output_type": "execute_result",
          "data": {
            "text/html": [
              "<div>\n",
              "<style scoped>\n",
              "    .dataframe tbody tr th:only-of-type {\n",
              "        vertical-align: middle;\n",
              "    }\n",
              "\n",
              "    .dataframe tbody tr th {\n",
              "        vertical-align: top;\n",
              "    }\n",
              "\n",
              "    .dataframe thead th {\n",
              "        text-align: right;\n",
              "    }\n",
              "</style>\n",
              "<table border=\"1\" class=\"dataframe\">\n",
              "  <thead>\n",
              "    <tr style=\"text-align: right;\">\n",
              "      <th></th>\n",
              "      <th>filename</th>\n",
              "      <th>class</th>\n",
              "    </tr>\n",
              "  </thead>\n",
              "  <tbody>\n",
              "    <tr>\n",
              "      <th>1016</th>\n",
              "      <td>sunrise314.jpg</td>\n",
              "      <td>sunrise</td>\n",
              "    </tr>\n",
              "    <tr>\n",
              "      <th>916</th>\n",
              "      <td>shine60.jpg</td>\n",
              "      <td>shine</td>\n",
              "    </tr>\n",
              "    <tr>\n",
              "      <th>938</th>\n",
              "      <td>shine206.jpg</td>\n",
              "      <td>shine</td>\n",
              "    </tr>\n",
              "    <tr>\n",
              "      <th>483</th>\n",
              "      <td>rain214.jpg</td>\n",
              "      <td>rain</td>\n",
              "    </tr>\n",
              "    <tr>\n",
              "      <th>923</th>\n",
              "      <td>rain176.jpg</td>\n",
              "      <td>rain</td>\n",
              "    </tr>\n",
              "    <tr>\n",
              "      <th>...</th>\n",
              "      <td>...</td>\n",
              "      <td>...</td>\n",
              "    </tr>\n",
              "    <tr>\n",
              "      <th>852</th>\n",
              "      <td>shine6.jpg</td>\n",
              "      <td>shine</td>\n",
              "    </tr>\n",
              "    <tr>\n",
              "      <th>673</th>\n",
              "      <td>cloudy45.jpg</td>\n",
              "      <td>cloudy</td>\n",
              "    </tr>\n",
              "    <tr>\n",
              "      <th>375</th>\n",
              "      <td>cloudy111.jpg</td>\n",
              "      <td>cloudy</td>\n",
              "    </tr>\n",
              "    <tr>\n",
              "      <th>1071</th>\n",
              "      <td>rain115.jpg</td>\n",
              "      <td>rain</td>\n",
              "    </tr>\n",
              "    <tr>\n",
              "      <th>1076</th>\n",
              "      <td>sunrise305.jpg</td>\n",
              "      <td>sunrise</td>\n",
              "    </tr>\n",
              "  </tbody>\n",
              "</table>\n",
              "<p>900 rows × 2 columns</p>\n",
              "</div>"
            ],
            "text/plain": [
              "            filename    class\n",
              "1016  sunrise314.jpg  sunrise\n",
              "916      shine60.jpg    shine\n",
              "938     shine206.jpg    shine\n",
              "483      rain214.jpg     rain\n",
              "923      rain176.jpg     rain\n",
              "...              ...      ...\n",
              "852       shine6.jpg    shine\n",
              "673     cloudy45.jpg   cloudy\n",
              "375    cloudy111.jpg   cloudy\n",
              "1071     rain115.jpg     rain\n",
              "1076  sunrise305.jpg  sunrise\n",
              "\n",
              "[900 rows x 2 columns]"
            ]
          },
          "metadata": {
            "tags": []
          },
          "execution_count": 12
        }
      ]
    },
    {
      "cell_type": "code",
      "metadata": {
        "colab": {
          "base_uri": "https://localhost:8080/"
        },
        "id": "prlcaHrtcvBp",
        "outputId": "b84caa56-9366-4fe8-8e5a-61e0a69addf5"
      },
      "source": [
        "SIZE = 224 #change to fit to vgg model below\n",
        "\n",
        "# adding only rescale for the model without the augmentation\n",
        "\n",
        "train_datagen_no_aug = ImageDataGenerator(rescale=1./255)\n",
        "\n",
        "train_generator_no_aug = train_datagen_no_aug.flow_from_dataframe(train,\n",
        "                                                    x_col=\"filename\", \n",
        "                                                    y_col=\"class\",\n",
        "                                                    target_size = (SIZE, SIZE),\n",
        "                                                    directory = '/tmp/weather/dataset2')\n",
        "# Adding rescale, rotation_range, width_shift_range, height_shift_range,\n",
        "# shear_range, zoom_range, and horizontal flip to our ImageDataGenerator\n",
        "\n",
        "#adding augementation\n",
        "\n",
        "train_datagen = ImageDataGenerator(rescale=1./255,\n",
        "     rotation_range=15,\n",
        "     width_shift_range=0.1,\n",
        "     height_shift_range=0.1,\n",
        "     shear_range=0.1,\n",
        "     zoom_range=0.1,\n",
        "     horizontal_flip=True,)\n",
        "\n",
        "# Flow training images in batches of 32 using train_datagen generator\n",
        "train_generator = train_datagen.flow_from_dataframe(train,\n",
        "                                                    x_col=\"filename\", \n",
        "                                                    y_col=\"class\",\n",
        "                                                    target_size = (SIZE, SIZE),\n",
        "                                                    directory = '/tmp/weather/dataset2')\n",
        "\n",
        "# Note that the validation data should not be augmented!\n",
        "test_datagen = ImageDataGenerator(rescale=1./255)\n",
        "\n",
        "# Flow validation images in batches of 32 using val_datagen generator\n",
        "test_generator = test_datagen.flow_from_dataframe(test,\n",
        "                                                  x_col=\"filename\", \n",
        "                                                  y_col=\"class\",\n",
        "                                                  target_size = (SIZE, SIZE),\n",
        "                                                  directory = '/tmp/weather/dataset2')"
      ],
      "execution_count": null,
      "outputs": [
        {
          "output_type": "stream",
          "text": [
            "Found 900 validated image filenames belonging to 4 classes.\n",
            "Found 900 validated image filenames belonging to 4 classes.\n",
            "Found 225 validated image filenames belonging to 4 classes.\n"
          ],
          "name": "stdout"
        }
      ]
    },
    {
      "cell_type": "markdown",
      "metadata": {
        "id": "0yC1_wlfyHOQ"
      },
      "source": [
        "## CNN model, inspired by Intel's suggestion in EX4"
      ]
    },
    {
      "cell_type": "code",
      "metadata": {
        "id": "NMrxVusEjP2o"
      },
      "source": [
        "# Let's build a CNN using Keras' Sequential capabilities\n",
        "num_classes = 4\n",
        "\n",
        "# model suggested by Intel -the best model \n",
        "model = Sequential()\n",
        "\n",
        "model.add(Conv2D(filters=32, kernel_size=3, activation='relu', padding='same', input_shape = (SIZE, SIZE, 3)))\n",
        "model.add(Conv2D(32, (3, 3), strides = (1,1), padding='same')) \n",
        "model.add(Activation('relu'))\n",
        "model.add(MaxPooling2D(pool_size=(2, 2)))\n",
        "model.add(Conv2D(32, (3, 3), strides = (1,1), padding='same')) \n",
        "model.add(Activation('relu'))\n",
        "model.add(Conv2D(32, (3, 3), strides = (1,1), padding='same')) \n",
        "model.add(Activation('relu'))\n",
        "model.add(MaxPooling2D(pool_size=(2, 2)))\n",
        "model.add(Flatten())\n",
        "model.add(Dropout(0.5))\n",
        "model.add(Dense(num_classes))\n",
        "model.add(Activation('softmax'))\n",
        "\n",
        "model.summary()"
      ],
      "execution_count": null,
      "outputs": []
    },
    {
      "cell_type": "code",
      "metadata": {
        "id": "6qWxApYMoLbw"
      },
      "source": [
        "model.compile(loss=\"categorical_crossentropy\", optimizer=\"adam\", metrics=[\"accuracy\"])"
      ],
      "execution_count": null,
      "outputs": []
    },
    {
      "cell_type": "code",
      "metadata": {
        "colab": {
          "base_uri": "https://localhost:8080/"
        },
        "id": "RFwm-cJv4N4h",
        "outputId": "5b87d3f2-225b-4c7e-fa7b-e2cda4f5e744"
      },
      "source": [
        "# model result without augmentation\n",
        "history_no_aug = model.fit(train_generator_no_aug, steps_per_epoch=len(train_generator_no_aug),\n",
        "\t\tvalidation_data=test_generator, validation_steps=len(test_generator), epochs=10, verbose=1)"
      ],
      "execution_count": null,
      "outputs": [
        {
          "output_type": "stream",
          "text": [
            "Epoch 1/10\n",
            "29/29 [==============================] - 53s 289ms/step - loss: 1.1917 - accuracy: 0.5039 - val_loss: 0.4836 - val_accuracy: 0.8089\n",
            "Epoch 2/10\n",
            "29/29 [==============================] - 7s 255ms/step - loss: 0.4487 - accuracy: 0.8462 - val_loss: 0.3181 - val_accuracy: 0.8978\n",
            "Epoch 3/10\n",
            "29/29 [==============================] - 7s 262ms/step - loss: 0.3163 - accuracy: 0.8855 - val_loss: 0.2946 - val_accuracy: 0.8978\n",
            "Epoch 4/10\n",
            "29/29 [==============================] - 7s 254ms/step - loss: 0.3127 - accuracy: 0.8613 - val_loss: 0.2367 - val_accuracy: 0.9200\n",
            "Epoch 5/10\n",
            "29/29 [==============================] - 7s 254ms/step - loss: 0.2211 - accuracy: 0.9197 - val_loss: 0.6146 - val_accuracy: 0.7911\n",
            "Epoch 6/10\n",
            "29/29 [==============================] - 7s 256ms/step - loss: 0.3129 - accuracy: 0.8754 - val_loss: 0.3217 - val_accuracy: 0.8578\n",
            "Epoch 7/10\n",
            "29/29 [==============================] - 7s 258ms/step - loss: 0.2010 - accuracy: 0.9300 - val_loss: 0.2559 - val_accuracy: 0.8889\n",
            "Epoch 8/10\n",
            "29/29 [==============================] - 7s 253ms/step - loss: 0.1274 - accuracy: 0.9504 - val_loss: 0.4286 - val_accuracy: 0.8711\n",
            "Epoch 9/10\n",
            "29/29 [==============================] - 7s 260ms/step - loss: 0.1530 - accuracy: 0.9428 - val_loss: 0.3422 - val_accuracy: 0.8933\n",
            "Epoch 10/10\n",
            "29/29 [==============================] - 7s 257ms/step - loss: 0.1043 - accuracy: 0.9702 - val_loss: 0.4170 - val_accuracy: 0.8844\n"
          ],
          "name": "stdout"
        }
      ]
    },
    {
      "cell_type": "code",
      "metadata": {
        "id": "nTcWnFar5dKc"
      },
      "source": [
        "# recompile the model to make sure the model is reset (we don't want any influence from previous trainings)\n",
        "model.compile(loss=\"categorical_crossentropy\", optimizer=\"adam\", metrics=[\"accuracy\"])"
      ],
      "execution_count": null,
      "outputs": []
    },
    {
      "cell_type": "code",
      "metadata": {
        "colab": {
          "base_uri": "https://localhost:8080/"
        },
        "id": "0dW1uzljn4Fw",
        "outputId": "a149c731-30e0-496b-f840-323856e6f824"
      },
      "source": [
        "# model result with augmentation\n",
        "history = model.fit(train_generator, steps_per_epoch=len(train_generator),\n",
        "\t\tvalidation_data=test_generator, validation_steps=len(test_generator), epochs=10, verbose=1)"
      ],
      "execution_count": null,
      "outputs": [
        {
          "output_type": "stream",
          "text": [
            "Epoch 1/10\n",
            "29/29 [==============================] - 65s 670ms/step - loss: 1.0651 - accuracy: 0.5574 - val_loss: 0.5938 - val_accuracy: 0.7156\n",
            "Epoch 2/10\n",
            "29/29 [==============================] - 19s 642ms/step - loss: 0.5496 - accuracy: 0.7618 - val_loss: 0.4284 - val_accuracy: 0.8267\n",
            "Epoch 3/10\n",
            "29/29 [==============================] - 19s 644ms/step - loss: 0.4845 - accuracy: 0.8143 - val_loss: 0.4164 - val_accuracy: 0.8444\n",
            "Epoch 4/10\n",
            "29/29 [==============================] - 19s 670ms/step - loss: 0.4286 - accuracy: 0.8433 - val_loss: 0.3431 - val_accuracy: 0.8622\n",
            "Epoch 5/10\n",
            "29/29 [==============================] - 19s 666ms/step - loss: 0.4621 - accuracy: 0.8192 - val_loss: 0.4005 - val_accuracy: 0.8667\n",
            "Epoch 6/10\n",
            "29/29 [==============================] - 19s 666ms/step - loss: 0.4147 - accuracy: 0.8535 - val_loss: 0.3770 - val_accuracy: 0.9022\n",
            "Epoch 7/10\n",
            "29/29 [==============================] - 19s 653ms/step - loss: 0.3389 - accuracy: 0.8901 - val_loss: 0.2972 - val_accuracy: 0.9111\n",
            "Epoch 8/10\n",
            "29/29 [==============================] - 19s 645ms/step - loss: 0.3108 - accuracy: 0.8894 - val_loss: 0.3052 - val_accuracy: 0.9022\n",
            "Epoch 9/10\n",
            "29/29 [==============================] - 19s 635ms/step - loss: 0.4454 - accuracy: 0.8327 - val_loss: 0.2933 - val_accuracy: 0.9067\n",
            "Epoch 10/10\n",
            "29/29 [==============================] - 19s 645ms/step - loss: 0.2901 - accuracy: 0.8940 - val_loss: 0.2786 - val_accuracy: 0.9067\n"
          ],
          "name": "stdout"
        }
      ]
    },
    {
      "cell_type": "markdown",
      "metadata": {
        "id": "boaB9qZZyTcX"
      },
      "source": [
        "# display the Intel model results\n"
      ]
    },
    {
      "cell_type": "code",
      "metadata": {
        "colab": {
          "base_uri": "https://localhost:8080/",
          "height": 297
        },
        "id": "vkwlQSCH5iCQ",
        "outputId": "9d4f7a14-89dd-43ac-9f93-1df70d58bfd9"
      },
      "source": [
        "# Retrieve a list of accuracy results on training and validation data\n",
        "# sets for each training epoch\n",
        "acc = history_no_aug.history['accuracy']\n",
        "# print(history.history, end=\"\\n\")\n",
        "val_acc = history_no_aug.history['val_accuracy']\n",
        "\n",
        "# Get number of epochs\n",
        "epochs = range(len(acc))\n",
        "\n",
        "# Plot training and validation accuracy per epoch\n",
        "plt.plot(epochs, acc)\n",
        "plt.plot(epochs, val_acc)\n",
        "plt.title('Training and validation accuracy')\n",
        "plt.legend(['train', 'val'])\n",
        "\n",
        "print(f\"validation accuracy is {round(history_no_aug.history['val_accuracy'][-1], 3)}\")"
      ],
      "execution_count": null,
      "outputs": [
        {
          "output_type": "stream",
          "text": [
            "validation accuracy is 0.884\n"
          ],
          "name": "stdout"
        },
        {
          "output_type": "display_data",
          "data": {
            "image/png": "[encoded data removed]",
            "text/plain": [
              "<Figure size 432x288 with 1 Axes>"
            ]
          },
          "metadata": {
            "tags": [],
            "needs_background": "light"
          }
        }
      ]
    },
    {
      "cell_type": "code",
      "metadata": {
        "colab": {
          "base_uri": "https://localhost:8080/",
          "height": 297
        },
        "id": "IpaPJQkJo6pV",
        "outputId": "2660d131-7a3c-445a-9502-7eb2a860eb24"
      },
      "source": [
        "# Retrieve a list of accuracy results on training and validation data\n",
        "# sets for each training epoch\n",
        "acc = history.history['accuracy']\n",
        "# print(history.history, end=\"\\n\")\n",
        "val_acc = history.history['val_accuracy']\n",
        "\n",
        "# Get number of epochs\n",
        "epochs = range(len(acc))\n",
        "\n",
        "# Plot training and validation accuracy per epoch\n",
        "plt.plot(epochs, acc)\n",
        "plt.plot(epochs, val_acc)\n",
        "plt.title('Training and validation accuracy')\n",
        "plt.legend(['train', 'val'])\n",
        "\n",
        "print(f\"validation accuracy is {round(history.history['val_accuracy'][-1], 3)}\")"
      ],
      "execution_count": null,
      "outputs": [
        {
          "output_type": "stream",
          "text": [
            "validation accuracy is 0.907\n"
          ],
          "name": "stdout"
        },
        {
          "output_type": "display_data",
          "data": {
            "image/png": "[encoded data removed]",
            "text/plain": [
              "<Figure size 432x288 with 1 Axes>"
            ]
          },
          "metadata": {
            "tags": [],
            "needs_background": "light"
          }
        }
      ]
    },
    {
      "cell_type": "markdown",
      "metadata": {
        "id": "XZo6owcn6ok5"
      },
      "source": [
        "###As we can see, adding the augmentation, has slightly improved our model abilities.\n",
        "#####notice that the difference is not very big and can be subjected to the margin of error."
      ]
    },
    {
      "cell_type": "markdown",
      "metadata": {
        "id": "RyZ9gII5ylQS"
      },
      "source": [
        "# model with vgg "
      ]
    },
    {
      "cell_type": "code",
      "metadata": {
        "id": "1hWVJ54jp_yn"
      },
      "source": [
        "from keras.applications.vgg16 import VGG16\n",
        "from keras.models import Model\n",
        "from keras.layers import Dense\n",
        "from keras.layers import Flatten\n",
        "from keras.optimizers import SGD"
      ],
      "execution_count": null,
      "outputs": []
    },
    {
      "cell_type": "code",
      "metadata": {
        "id": "GG29qQGxkdOk"
      },
      "source": [
        "# define cnn model\n",
        "def define_model():\n",
        "\t# load model\n",
        "  model = VGG16(include_top=False, input_shape=(SIZE, SIZE, 3))\n",
        "  # mark loaded layers as not trainable\n",
        "  for layer in model.layers:\n",
        "    layer.trainable = False\n",
        "\t# add new classifier layers\n",
        "  flat1 = Flatten()(model.layers[-1].output)\n",
        "  class1 = Dense(128, activation='relu', kernel_initializer='he_uniform')(flat1)\n",
        "  output = Dense(4, activation='softmax')(class1)\n",
        "\t# define new model\n",
        "  model = Model(inputs=model.inputs, outputs=output)\n",
        "\t# compile model\n",
        "  opt = Adam(learning_rate=0.003)\n",
        "  model.compile(optimizer=opt, loss='binary_crossentropy', metrics=['accuracy'])\n",
        "\n",
        "  return model"
      ],
      "execution_count": null,
      "outputs": []
    },
    {
      "cell_type": "code",
      "metadata": {
        "id": "y8z1PDwEpyaI"
      },
      "source": [
        "model_vgg = define_model()"
      ],
      "execution_count": null,
      "outputs": []
    },
    {
      "cell_type": "code",
      "metadata": {
        "colab": {
          "base_uri": "https://localhost:8080/"
        },
        "id": "oWFfmrlFpy3v",
        "outputId": "8782efc9-faf3-4e42-9b36-e15c600c2854"
      },
      "source": [
        "model_vgg.summary()"
      ],
      "execution_count": null,
      "outputs": [
        {
          "output_type": "stream",
          "text": [
            "Model: \"model_16\"\n",
            "_________________________________________________________________\n",
            "Layer (type)                 Output Shape              Param #   \n",
            "=================================================================\n",
            "input_17 (InputLayer)        [(None, 224, 224, 3)]     0         \n",
            "_________________________________________________________________\n",
            "block1_conv1 (Conv2D)        (None, 224, 224, 64)      1792      \n",
            "_________________________________________________________________\n",
            "block1_conv2 (Conv2D)        (None, 224, 224, 64)      36928     \n",
            "_________________________________________________________________\n",
            "block1_pool (MaxPooling2D)   (None, 112, 112, 64)      0         \n",
            "_________________________________________________________________\n",
            "block2_conv1 (Conv2D)        (None, 112, 112, 128)     73856     \n",
            "_________________________________________________________________\n",
            "block2_conv2 (Conv2D)        (None, 112, 112, 128)     147584    \n",
            "_________________________________________________________________\n",
            "block2_pool (MaxPooling2D)   (None, 56, 56, 128)       0         \n",
            "_________________________________________________________________\n",
            "block3_conv1 (Conv2D)        (None, 56, 56, 256)       295168    \n",
            "_________________________________________________________________\n",
            "block3_conv2 (Conv2D)        (None, 56, 56, 256)       590080    \n",
            "_________________________________________________________________\n",
            "block3_conv3 (Conv2D)        (None, 56, 56, 256)       590080    \n",
            "_________________________________________________________________\n",
            "block3_pool (MaxPooling2D)   (None, 28, 28, 256)       0         \n",
            "_________________________________________________________________\n",
            "block4_conv1 (Conv2D)        (None, 28, 28, 512)       1180160   \n",
            "_________________________________________________________________\n",
            "block4_conv2 (Conv2D)        (None, 28, 28, 512)       2359808   \n",
            "_________________________________________________________________\n",
            "block4_conv3 (Conv2D)        (None, 28, 28, 512)       2359808   \n",
            "_________________________________________________________________\n",
            "block4_pool (MaxPooling2D)   (None, 14, 14, 512)       0         \n",
            "_________________________________________________________________\n",
            "block5_conv1 (Conv2D)        (None, 14, 14, 512)       2359808   \n",
            "_________________________________________________________________\n",
            "block5_conv2 (Conv2D)        (None, 14, 14, 512)       2359808   \n",
            "_________________________________________________________________\n",
            "block5_conv3 (Conv2D)        (None, 14, 14, 512)       2359808   \n",
            "_________________________________________________________________\n",
            "block5_pool (MaxPooling2D)   (None, 7, 7, 512)         0         \n",
            "_________________________________________________________________\n",
            "flatten_17 (Flatten)         (None, 25088)             0         \n",
            "_________________________________________________________________\n",
            "dense_33 (Dense)             (None, 128)               3211392   \n",
            "_________________________________________________________________\n",
            "dense_34 (Dense)             (None, 4)                 516       \n",
            "=================================================================\n",
            "Total params: 17,926,596\n",
            "Trainable params: 3,211,908\n",
            "Non-trainable params: 14,714,688\n",
            "_________________________________________________________________\n"
          ],
          "name": "stdout"
        }
      ]
    },
    {
      "cell_type": "code",
      "metadata": {
        "colab": {
          "base_uri": "https://localhost:8080/"
        },
        "id": "ASUGghQPpsf2",
        "outputId": "f05d7f77-b2fc-4f88-b473-5d9aed83220e"
      },
      "source": [
        "history_vgg = model_vgg.fit(train_generator, steps_per_epoch=len(train_generator),\n",
        "\t\tvalidation_data=test_generator, validation_steps=len(test_generator), epochs=10, verbose=1)"
      ],
      "execution_count": null,
      "outputs": [
        {
          "output_type": "stream",
          "text": [
            "Epoch 1/10\n",
            "29/29 [==============================] - 21s 719ms/step - loss: 0.0761 - accuracy: 0.9522 - val_loss: 0.1151 - val_accuracy: 0.9378\n",
            "Epoch 2/10\n",
            "29/29 [==============================] - 21s 713ms/step - loss: 0.0688 - accuracy: 0.9589 - val_loss: 0.0841 - val_accuracy: 0.9289\n",
            "Epoch 3/10\n",
            "29/29 [==============================] - 21s 711ms/step - loss: 0.0626 - accuracy: 0.9689 - val_loss: 0.1028 - val_accuracy: 0.9289\n",
            "Epoch 4/10\n",
            "29/29 [==============================] - 21s 709ms/step - loss: 0.0752 - accuracy: 0.9544 - val_loss: 0.1201 - val_accuracy: 0.9200\n",
            "Epoch 5/10\n",
            "29/29 [==============================] - 21s 732ms/step - loss: 0.0837 - accuracy: 0.9489 - val_loss: 0.0899 - val_accuracy: 0.9378\n",
            "Epoch 6/10\n",
            "29/29 [==============================] - 21s 716ms/step - loss: 0.0552 - accuracy: 0.9689 - val_loss: 0.0883 - val_accuracy: 0.9511\n",
            "Epoch 7/10\n",
            "29/29 [==============================] - 21s 703ms/step - loss: 0.0546 - accuracy: 0.9689 - val_loss: 0.0784 - val_accuracy: 0.9511\n",
            "Epoch 8/10\n",
            "29/29 [==============================] - 21s 715ms/step - loss: 0.0687 - accuracy: 0.9567 - val_loss: 0.1102 - val_accuracy: 0.9200\n",
            "Epoch 9/10\n",
            "29/29 [==============================] - 21s 710ms/step - loss: 0.0594 - accuracy: 0.9644 - val_loss: 0.0838 - val_accuracy: 0.9467\n",
            "Epoch 10/10\n",
            "29/29 [==============================] - 21s 706ms/step - loss: 0.0554 - accuracy: 0.9722 - val_loss: 0.0772 - val_accuracy: 0.9511\n"
          ],
          "name": "stdout"
        }
      ]
    },
    {
      "cell_type": "markdown",
      "metadata": {
        "id": "FANk2mkiytRC"
      },
      "source": [
        "# display the vgg model result"
      ]
    },
    {
      "cell_type": "code",
      "metadata": {
        "colab": {
          "base_uri": "https://localhost:8080/",
          "height": 297
        },
        "id": "TU_EFWSFw1tZ",
        "outputId": "5d67040e-bf1f-40b3-f049-3af6500dc926"
      },
      "source": [
        "# Retrieve a list of accuracy results on training and validation data\n",
        "# sets for each training epoch\n",
        "acc = history_vgg.history['accuracy']\n",
        "# print(history.history, end=\"\\n\")\n",
        "val_acc = history_vgg.history['val_accuracy']\n",
        "\n",
        "# Get number of epochs\n",
        "epochs = range(len(acc))\n",
        "\n",
        "# Plot training and validation accuracy per epoch\n",
        "plt.plot(epochs, acc)\n",
        "plt.plot(epochs, val_acc)\n",
        "plt.title('Training and validation accuracy')\n",
        "plt.legend(['train', 'val'])\n",
        "\n",
        "print(f\"validation accuracy is {round(history_vgg.history['val_accuracy'][-1], 3)}\")"
      ],
      "execution_count": null,
      "outputs": [
        {
          "output_type": "stream",
          "text": [
            "validation accuracy is 0.951\n"
          ],
          "name": "stdout"
        },
        {
          "output_type": "display_data",
          "data": {
            "image/png": "[encoded data removed]",
            "text/plain": [
              "<Figure size 432x288 with 1 Axes>"
            ]
          },
          "metadata": {
            "tags": [],
            "needs_background": "light"
          }
        }
      ]
    }
  ]
}